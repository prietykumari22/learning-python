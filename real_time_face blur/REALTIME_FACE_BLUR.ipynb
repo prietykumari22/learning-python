{
 "cells": [
  {
   "cell_type": "markdown",
   "id": "33de5e14",
   "metadata": {},
   "source": [
    "# realtime face blurr\n"
   ]
  },
  {
   "cell_type": "code",
   "execution_count": 3,
   "id": "434e27f0",
   "metadata": {},
   "outputs": [],
   "source": [
    "import cv2 as cv\n",
    "import numpy as np\n",
    "classifier = cv.CascadeClassifier(\"haarcascade_frontalface_default.xml\")"
   ]
  },
  {
   "cell_type": "code",
   "execution_count": 4,
   "id": "cfd7b818",
   "metadata": {},
   "outputs": [],
   "source": [
    "camera = cv.VideoCapture(0)\n",
    "while True:\n",
    "    \n",
    "    _,img = camera.read()\n",
    "    img = cv.flip(img,1)\n",
    "    gary = cv.cvtColor(img, cv.COLOR_RGB2GRAY)\n",
    "    cv.imshow(\"original\",img)\n",
    "    blur = cv.blur(img,(50,50))\n",
    "    cv.imshow(\"blurr\",blur)\n",
    "    #faces = cv.detectMultiScale(img,1.7,2)\n",
    "    key = cv.waitKey(30)\n",
    "    if(key == 27):\n",
    "        break\n",
    "camera.release()        \n",
    "    \n",
    "    "
   ]
  },
  {
   "cell_type": "code",
   "execution_count": 6,
   "id": "d102b3c6",
   "metadata": {},
   "outputs": [],
   "source": [
    "camera = cv.VideoCapture(1)\n",
    "while True:\n",
    "    \n",
    "    _,img = camera.read()\n",
    "    img = cv.flip(img,1)\n",
    "    gary = cv.cvtColor(img, cv.COLOR_RGB2GRAY) #importing the image to gray for less competetion\n",
    "    blur = cv.blur(img,(50,50))\n",
    "    \n",
    "    faces = classifier.detectMultiScale(img, 1.5, 10)\n",
    "    for (x,y,w,h) in faces:\n",
    "        cv.rectangle(img, (x,y), (x+w,y+h),(200,140,0),4) #face is detected ,let's crop that particular area and go for blurfunc\n",
    "        face = img[y:y+h,x:x+w,:]  #to crop the detected image\n",
    "        face = cv.blur(face,(40,40)) #to blur(40*40) matrix the detected image\n",
    "    cv.imshow(\"original\",img)\n",
    "    cv.imshow(\"blurr\",blur) #to show the blurr image\n",
    "    cv.imshow(\"face_blur\",face) #to show the blur cropped image\n",
    "    \n",
    "    key = cv.waitKey(30)\n",
    "    if(key == 27):\n",
    "        break\n",
    "camera.release()        \n",
    "    \n",
    "    "
   ]
  },
  {
   "cell_type": "markdown",
   "id": "03c1f8f2",
   "metadata": {},
   "source": [
    "# to blur the realtime detected image"
   ]
  },
  {
   "cell_type": "code",
   "execution_count": 5,
   "id": "d02a21c0",
   "metadata": {},
   "outputs": [],
   "source": [
    "camera = cv.VideoCapture(0)\n",
    "\n",
    "while True:\n",
    "    \n",
    "    _,img = camera.read()\n",
    "    img = cv.flip(img, 1)\n",
    "    \n",
    "    gray = cv.cvtColor(img, cv.COLOR_RGB2GRAY)\n",
    "     \n",
    "    faces = classifier.detectMultiScale(gray, 1.5, 5)\n",
    "    \n",
    "    for (x,y,w,h) in faces:\n",
    "        cv.rectangle(img , (x,y), (x+w,y+h), (200,140,0), 5)\n",
    "        \n",
    "        face = img[ y:y+h , x:x+w ,:]\n",
    "        face = cv.blur(face, (100,100))\n",
    "        img[ y:y+h , x:x+w ,:] = face # to append the blur image of  detected image assigned the crop blurr image to croppedim \n",
    "        \n",
    "         \n",
    "    cv.imshow(\"Original\", img)    \n",
    "#    cv.imshow(\"Face\", face)\n",
    "    \n",
    "    key = cv.waitKey(30)\n",
    "    \n",
    "    if(key == 27):\n",
    "        break\n",
    "    \n",
    "camera.release()"
   ]
  },
  {
   "cell_type": "markdown",
   "id": "a7e89052",
   "metadata": {},
   "source": [
    "### cv.blur(face,(30,30)). if we pass 30*30 pixel value  the blur intensity is low let's increase it to (50'50) we will get more blur image passing(100,100) no one can recognise your face now"
   ]
  },
  {
   "cell_type": "code",
   "execution_count": 1,
   "id": "d2de2932",
   "metadata": {},
   "outputs": [],
   "source": [
    "#we have seen that if we are indenting with cv.rectangle. what happens is if we keep anything right near to the face then blur \n",
    "#is gone to remove this we need to indent these statement with for\n",
    "#face = img[ y:y+h , x:x+w ,:]\n",
    "#face = cv.blur(face, (100,100))\n",
    "#img[ y:y+h , x:x+w ,:] = face"
   ]
  },
  {
   "cell_type": "code",
   "execution_count": null,
   "id": "ca45b4b4",
   "metadata": {},
   "outputs": [],
   "source": []
  }
 ],
 "metadata": {
  "kernelspec": {
   "display_name": "Python 3",
   "language": "python",
   "name": "python3"
  },
  "language_info": {
   "codemirror_mode": {
    "name": "ipython",
    "version": 3
   },
   "file_extension": ".py",
   "mimetype": "text/x-python",
   "name": "python",
   "nbconvert_exporter": "python",
   "pygments_lexer": "ipython3",
   "version": "3.8.8"
  }
 },
 "nbformat": 4,
 "nbformat_minor": 5
}
