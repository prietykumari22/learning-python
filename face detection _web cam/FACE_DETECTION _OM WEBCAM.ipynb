{
 "cells": [
  {
   "cell_type": "code",
   "execution_count": 1,
   "id": "04b6a736",
   "metadata": {},
   "outputs": [],
   "source": [
    "import cv2 as cv\n",
    "import numpy as np\n",
    "classifier=cv.CascadeClassifier(\"haarcascade_frontalface_default.xml\")"
   ]
  },
  {
   "cell_type": "code",
   "execution_count": 2,
   "id": "f7eafc98",
   "metadata": {},
   "outputs": [],
   "source": [
    "camera = cv.VideoCapture(0)\n",
    "\n",
    "while True:\n",
    "    \n",
    "    _,img = camera.read()\n",
    "    img =cv.flip(img,1)                 #next we need to flip the mage to get the actual image\n",
    "    cv.imshow(\"original\",img)\n",
    "    key = cv.waitKey(30)\n",
    "    if(key==27):\n",
    "         break\n",
    "camera.release()  #execute ....yes on ececuting it is working properly,the frame is detected"
   ]
  },
  {
   "cell_type": "markdown",
   "id": "91d9a60f",
   "metadata": {},
   "source": [
    "### lowering the value of scaling factor to 1.1 of detectmultiscale we will obserse that image is lagging use large value to ramove\n",
    "#moore value less time it will take to compute and lesser resoures as well.lesser resoures u will need the better farme rate u will get.\n",
    "now pass 0 to the 3rd parameter i.e is minimum neighbours of detectmulticsale function and see what happen it will detect all the images.it is detecting every block which tha model think that it is a face.it is detecting each and every case if we write 0 it is writing all the rectanngle but wheresoever we are having more rectangle something about 8-10 rectangle which means our model is more confident that tis is a face 1-2 rectangle means model is not confident about face.no of ractangle drawn on the faces is totally depend upon the this threshold i.e minimium-neighbour"
   ]
  },
  {
   "cell_type": "markdown",
   "id": "cbd45a5a",
   "metadata": {},
   "source": [
    "### RUN EACH BLOCK ONE BY ONE AND SEE THE RESULT"
   ]
  },
  {
   "cell_type": "code",
   "execution_count": 2,
   "id": "78d94229",
   "metadata": {},
   "outputs": [],
   "source": [
    "camera = cv.VideoCapture(0)\n",
    "\n",
    "while True:\n",
    "    \n",
    "    _ , img = camera.read()\n",
    "    img = cv.flip(img, 1)\n",
    "    \n",
    "    \n",
    "    faces = classifier.detectMultiScale(img, 1.7, 5)\n",
    "    \n",
    "    for (x,y,w,h) in faces:\n",
    "        cv.rectangle( img, (x,y), (x+w,y+h), (170,50,0), 4)\n",
    "        \n",
    "        face = img[ y:y+h, x:x+w, : ]\n",
    "        \n",
    "    cv.imshow(\"original\", img)\n",
    "    cv.imshow(\"face\",face)\n",
    "\n",
    "\n",
    "    key = cv.waitKey(30)\n",
    "    \n",
    "    if(key == 27):\n",
    "        break\n",
    "camera.release ()     "
   ]
  },
  {
   "cell_type": "code",
   "execution_count": 4,
   "id": "30ad2fac",
   "metadata": {},
   "outputs": [],
   "source": [
    "camera = cv.VideoCapture(0)\n",
    "\n",
    "while True:\n",
    "    \n",
    "    _ , img = camera.read()\n",
    "    img = cv.flip(img, 1)\n",
    "    \n",
    "    cv.imshow('Main', img)  #thsi will show original image..img.shape(480,640,3)\n",
    "    \n",
    "    gray = cv.cvtColor(img, cv.COLOR_RGB2GRAY)#on chnaging to gary sacle.gray.shape(480,640)less pixel less competetion than ori\n",
    "    \n",
    "    cv.imshow('GrayScale', gray)   #this will show a gary scale image\n",
    "    \n",
    "    faces = classifier.detectMultiScale(gray, 1.7, 5)\n",
    "    \n",
    "    for (x,y,w,h) in faces:\n",
    "        cv.rectangle( img, (x,y), (x+w,y+h), (170,50,0), 4)\n",
    "        \n",
    "        face = img[ y:y+h, x:x+w, : ]\n",
    "        \n",
    "        cv.imshow(\"face_detected\", img) #face detected image\n",
    "        cv.imshow(\"face\",face)   #cropped image\n",
    "\n",
    "    \n",
    "    key = cv.waitKey(30)\n",
    "    \n",
    "    if(key == 27):\n",
    "        break\n",
    "camera.release () "
   ]
  },
  {
   "cell_type": "code",
   "execution_count": 5,
   "id": "d3376fc7",
   "metadata": {},
   "outputs": [
    {
     "data": {
      "text/plain": [
       "(480, 640, 3)"
      ]
     },
     "execution_count": 5,
     "metadata": {},
     "output_type": "execute_result"
    }
   ],
   "source": [
    "img.shape"
   ]
  },
  {
   "cell_type": "markdown",
   "id": "7838fea0",
   "metadata": {},
   "source": [
    "## playing with RGB"
   ]
  },
  {
   "cell_type": "code",
   "execution_count": 11,
   "id": "b6c40fa7",
   "metadata": {},
   "outputs": [],
   "source": [
    "\n",
    "camera = cv.VideoCapture(0)\n",
    "\n",
    "while True:\n",
    "    \n",
    "    _ , img = camera.read()\n",
    "    img = cv.flip(img, 1)\n",
    "    \n",
    "    cv.imshow('Main', img)  #thsi will show original image..img.shape(480,640,3)\n",
    "    \n",
    "    gray = cv.cvtColor(img, cv.COLOR_RGB2GRAY)#on chnaging to gary sacle.gray.shape(480,640)less pixel less competetion than ori\n",
    "    \n",
    "    cv.imshow('GrayScale', gray)   #this will show a gary scale image\n",
    "    \n",
    "    faces = classifier.detectMultiScale(gray, 1.7, 2)\n",
    "    \n",
    "    for (x,y,w,h) in faces:\n",
    "        cv.rectangle( img, (x,y), (x+w,y+h), (170,50,0), 4)\n",
    "        \n",
    "        face = img[ y:y+h, x:x+w, : ]\n",
    "        \n",
    "        r = face[:,:,:1]\n",
    "        g = face[:,:,:1]\n",
    "        b = face[:,:,:1]\n",
    "    \n",
    "    cv.imshow('Face Detection', img)\n",
    "    cv.imshow('Face', face)\n",
    "    cv.imshow('red', r)\n",
    "    cv.imshow('blue', b)\n",
    "    cv.imshow('green', g)\n",
    "    \n",
    "    \n",
    "        \n",
    "    key = cv.waitKey(30)\n",
    "    \n",
    "    if(key == 27):\n",
    "        break\n",
    "camera.release () "
   ]
  },
  {
   "cell_type": "markdown",
   "id": "a3812826",
   "metadata": {},
   "source": [
    "## playing with hsw(hue ,saturation and value)"
   ]
  },
  {
   "cell_type": "code",
   "execution_count": 2,
   "id": "52aa3cc6",
   "metadata": {},
   "outputs": [],
   "source": [
    "camera = cv.VideoCapture(0)\n",
    "\n",
    "while True:\n",
    "    \n",
    "    _ , img = camera.read()\n",
    "    img = cv.flip(img, 1)\n",
    "    \n",
    "    cv.imshow('Main', img)  #thsi will show original image..img.shape(480,640,3)\n",
    "    \n",
    "    gray = cv.cvtColor(img, cv.COLOR_RGB2GRAY)#on chnaging to gary sacle.gray.shape(480,640)less pixel less competetion than ori\n",
    "    \n",
    "    cv.imshow('GrayScale', gray)   #this will show a gary scale image\n",
    "    \n",
    "    faces = classifier.detectMultiScale(gray, 1.7, 2)\n",
    "    \n",
    "    for (x,y,w,h) in faces:\n",
    "        cv.rectangle( img, (x,y), (x+w,y+h), (170,50,0), 4)\n",
    "        \n",
    "        face = img[ y:y+h, x:x+w, : ]\n",
    "        hsv = cv.cvtColor(img, cv.COLOR_RGB2HSV)\n",
    "        \n",
    "        h= face[:,:,:1]\n",
    "        s = face[:,:,:1]\n",
    "        v = face[:,:,:1]\n",
    "    \n",
    "    cv.imshow('Face Detection', img)\n",
    "    cv.imshow('Face', face)\n",
    "    cv.imshow('hsv',hsv)\n",
    "    cv.imshow('hue', h)\n",
    "    cv.imshow('saturation', s)\n",
    "    cv.imshow('value', v)\n",
    "    \n",
    "    \n",
    "        \n",
    "    key = cv.waitKey(30)\n",
    "    \n",
    "    if(key == 27):\n",
    "        break\n",
    "camera.release () "
   ]
  },
  {
   "cell_type": "markdown",
   "id": "d1421f34",
   "metadata": {},
   "source": [
    "# detecting yuv color images"
   ]
  },
  {
   "cell_type": "code",
   "execution_count": 4,
   "id": "f22a386b",
   "metadata": {},
   "outputs": [],
   "source": [
    "camera = cv.VideoCapture(0)\n",
    "\n",
    "while True:\n",
    "    \n",
    "    _ , img = camera.read()\n",
    "    img = cv.flip(img, 1)\n",
    "    \n",
    "    cv.imshow('Main', img)  #thsi will show original image..img.shape(480,640,3)\n",
    "    \n",
    "    gray = cv.cvtColor(img, cv.COLOR_RGB2GRAY)#on chnaging to gary sacle.gray.shape(480,640)less pixel less competetion than ori\n",
    "    \n",
    "    cv.imshow('GrayScale', gray)   #this will show a gary scale image\n",
    "    \n",
    "    faces = classifier.detectMultiScale(gray, 1.7, 5)\n",
    "    \n",
    "    for (x,y,w,h) in faces:\n",
    "        cv.rectangle( img, (x,y), (x+w,y+h), (170,50,0), 4)\n",
    "        \n",
    "        face = img[ y:y+h, x:x+w, : ]\n",
    "        hsv = cv.cvtColor(img, cv.COLOR_RGB2YUV)\n",
    "        \n",
    "        h= face[:,:,:1]\n",
    "        s = face[:,:,:1]\n",
    "        v = face[:,:,:1]\n",
    "    \n",
    "    cv.imshow('Face Detection', img)\n",
    "    cv.imshow('Face', face)\n",
    "    cv.imshow('hsv',hsv)\n",
    "    cv.imshow('hue', h)\n",
    "    cv.imshow('saturation', s)\n",
    "    cv.imshow('value', v)\n",
    "    \n",
    "    \n",
    "        \n",
    "    key = cv.waitKey(30)\n",
    "    \n",
    "    if(key == 27):\n",
    "        break\n",
    "camera.release () "
   ]
  },
  {
   "cell_type": "code",
   "execution_count": null,
   "id": "f64d95f2",
   "metadata": {},
   "outputs": [],
   "source": []
  }
 ],
 "metadata": {
  "kernelspec": {
   "display_name": "Python 3",
   "language": "python",
   "name": "python3"
  },
  "language_info": {
   "codemirror_mode": {
    "name": "ipython",
    "version": 3
   },
   "file_extension": ".py",
   "mimetype": "text/x-python",
   "name": "python",
   "nbconvert_exporter": "python",
   "pygments_lexer": "ipython3",
   "version": "3.8.8"
  }
 },
 "nbformat": 4,
 "nbformat_minor": 5
}
