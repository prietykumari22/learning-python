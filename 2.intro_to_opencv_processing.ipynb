{
 "cells": [
  {
   "cell_type": "code",
   "execution_count": 43,
   "id": "14f83d3b",
   "metadata": {},
   "outputs": [
    {
     "name": "stdout",
     "output_type": "stream",
     "text": [
      "Requirement already satisfied: opencv-python in c:\\anaconda12\\lib\\site-packages (4.5.5.62)\n",
      "Requirement already satisfied: numpy>=1.17.3 in c:\\anaconda12\\lib\\site-packages (from opencv-python) (1.20.1)\n"
     ]
    }
   ],
   "source": [
    "!pip install opencv-python"
   ]
  },
  {
   "cell_type": "code",
   "execution_count": 44,
   "id": "6b8a772b",
   "metadata": {},
   "outputs": [],
   "source": [
    "import cv2 as cv\n",
    "import numpy as np\n",
    "import matplotlib.pyplot as plt"
   ]
  },
  {
   "cell_type": "code",
   "execution_count": 45,
   "id": "2d35375a",
   "metadata": {},
   "outputs": [],
   "source": [
    "##a 3*3 matrix as we know images are nothing but form of matrix\n",
    "lst=[[0,0,0],[0,1,0],[0,0,0]]"
   ]
  },
  {
   "cell_type": "code",
   "execution_count": 46,
   "id": "4fe16fef",
   "metadata": {},
   "outputs": [
    {
     "data": {
      "text/plain": [
       "list"
      ]
     },
     "execution_count": 46,
     "metadata": {},
     "output_type": "execute_result"
    }
   ],
   "source": [
    "type(lst)"
   ]
  },
  {
   "cell_type": "code",
   "execution_count": 47,
   "id": "99600818",
   "metadata": {},
   "outputs": [
    {
     "data": {
      "text/plain": [
       "<matplotlib.image.AxesImage at 0x141d610f730>"
      ]
     },
     "execution_count": 47,
     "metadata": {},
     "output_type": "execute_result"
    },
    {
     "data": {
      "image/png": "[encoded data removed]",
      "text/plain": [
       "<Figure size 432x288 with 1 Axes>"
      ]
     },
     "metadata": {
      "needs_background": "light"
     },
     "output_type": "display_data"
    }
   ],
   "source": [
    "##how i can show some image into sort of no.how to represent this list into image \n",
    "##import library\n",
    "plt.imshow(lst)"
   ]
  },
  {
   "cell_type": "code",
   "execution_count": 48,
   "id": "2f3d1db2",
   "metadata": {},
   "outputs": [],
   "source": [
    "#converting list into numpy\n",
    "lst=np.array(lst)"
   ]
  },
  {
   "cell_type": "code",
   "execution_count": 49,
   "id": "a22960c0",
   "metadata": {},
   "outputs": [
    {
     "data": {
      "text/plain": [
       "array([[0, 0, 0],\n",
       "       [0, 1, 0],\n",
       "       [0, 0, 0]])"
      ]
     },
     "execution_count": 49,
     "metadata": {},
     "output_type": "execute_result"
    }
   ],
   "source": [
    "type(lst)\n",
    "lst"
   ]
  },
  {
   "cell_type": "code",
   "execution_count": 50,
   "id": "240a8a42",
   "metadata": {},
   "outputs": [
    {
     "data": {
      "text/plain": [
       "<matplotlib.image.AxesImage at 0x141d5d127c0>"
      ]
     },
     "execution_count": 50,
     "metadata": {},
     "output_type": "execute_result"
    },
    {
     "data": {
      "image/png": "[encoded data removed]",
      "text/plain": [
       "<Figure size 432x288 with 1 Axes>"
      ]
     },
     "metadata": {
      "needs_background": "light"
     },
     "output_type": "display_data"
    }
   ],
   "source": [
    "plt.imshow(lst)"
   ]
  },
  {
   "cell_type": "code",
   "execution_count": 52,
   "id": "08528a91",
   "metadata": {},
   "outputs": [
    {
     "data": {
      "text/plain": [
       "True"
      ]
     },
     "execution_count": 52,
     "metadata": {},
     "output_type": "execute_result"
    }
   ],
   "source": [
    "#open cv we are having a function imwrite writing \n",
    "#after executing it we got a image in the folder again if we change the value insite list we will get a different image\n",
    "cv.imwrite(\"pic.png\",lst)##exporting image"
   ]
  },
  {
   "cell_type": "code",
   "execution_count": 58,
   "id": "fa1685c1",
   "metadata": {},
   "outputs": [
    {
     "data": {
      "text/plain": [
       "<matplotlib.image.AxesImage at 0x141d62ef550>"
      ]
     },
     "execution_count": 58,
     "metadata": {},
     "output_type": "execute_result"
    },
    {
     "data": {
      "image/png": "[encoded data removed]",
      "text/plain": [
       "<Figure size 432x288 with 1 Axes>"
      ]
     },
     "metadata": {
      "needs_background": "light"
     },
     "output_type": "display_data"
    }
   ],
   "source": [
    "#0 means darkest colour and 255 means brightest colour\n",
    "lst=[[0,0,0],\n",
    "    [50,50,50],\n",
    "    [100,100,100],\n",
    "    [150,150,150],\n",
    "    [200,200,200],\n",
    "    [250,250,250]]\n",
    "lst=np.array(lst)\n",
    "plt.imshow(lst)\n"
   ]
  },
  {
   "cell_type": "code",
   "execution_count": 59,
   "id": "11ec3eb4",
   "metadata": {},
   "outputs": [
    {
     "data": {
      "text/plain": [
       "<matplotlib.image.AxesImage at 0x141d6343280>"
      ]
     },
     "execution_count": 59,
     "metadata": {},
     "output_type": "execute_result"
    },
    {
     "data": {
      "image/png": "[encoded data removed]",
      "text/plain": [
       "<Figure size 432x288 with 1 Axes>"
      ]
     },
     "metadata": {
      "needs_background": "light"
     },
     "output_type": "display_data"
    }
   ],
   "source": [
    "lst=[[0,50,100,150],\n",
    "    [50,100,150,200],\n",
    "    [100,150,200,250],\n",
    "    [150,200,150,255],]\n",
    "lst=np.array(lst)\n",
    "plt.imshow(lst)"
   ]
  },
  {
   "cell_type": "code",
   "execution_count": 63,
   "id": "122e4d55",
   "metadata": {},
   "outputs": [],
   "source": [
    "lst=[]\n",
    "for i in range(256): #adding height \n",
    "    temp=[]\n",
    "    for i in range(1280):#adding width\n",
    "        temp.append(i)\n",
    "    lst.append(temp)#combining height and weight"
   ]
  },
  {
   "cell_type": "code",
   "execution_count": 64,
   "id": "357f50f7",
   "metadata": {},
   "outputs": [
    {
     "data": {
      "text/plain": [
       "<matplotlib.image.AxesImage at 0x141d6b89fd0>"
      ]
     },
     "execution_count": 64,
     "metadata": {},
     "output_type": "execute_result"
    },
    {
     "data": {
      "image/png": "[encoded data removed]",
      "text/plain": [
       "<Figure size 432x288 with 1 Axes>"
      ]
     },
     "metadata": {
      "needs_background": "light"
     },
     "output_type": "display_data"
    }
   ],
   "source": [
    "lst=np.array(lst)#changing list into array\n",
    "plt.imshow(lst)#here we have 256 as width and 1280 is height"
   ]
  },
  {
   "cell_type": "code",
   "execution_count": null,
   "id": "b8dd93cd",
   "metadata": {},
   "outputs": [],
   "source": []
  }
 ],
 "metadata": {
  "kernelspec": {
   "display_name": "Python 3",
   "language": "python",
   "name": "python3"
  },
  "language_info": {
   "codemirror_mode": {
    "name": "ipython",
    "version": 3
   },
   "file_extension": ".py",
   "mimetype": "text/x-python",
   "name": "python",
   "nbconvert_exporter": "python",
   "pygments_lexer": "ipython3",
   "version": "3.8.8"
  }
 },
 "nbformat": 4,
 "nbformat_minor": 5
}
