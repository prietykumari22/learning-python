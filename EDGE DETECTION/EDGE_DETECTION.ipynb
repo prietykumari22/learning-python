{
 "cells": [
  {
   "cell_type": "markdown",
   "id": "fa4ecf6b",
   "metadata": {},
   "source": [
    "### edge detection using canny function in open cv"
   ]
  },
  {
   "cell_type": "code",
   "execution_count": null,
   "id": "43349b36",
   "metadata": {},
   "outputs": [],
   "source": [
    "import cv2 as cv"
   ]
  },
  {
   "cell_type": "code",
   "execution_count": null,
   "id": "78bf53a7",
   "metadata": {},
   "outputs": [],
   "source": [
    "camera = cv.VideoCapture(1)\n",
    "while True:\n",
    "    _,img = camera.read()\n",
    "    img = cv.flip(img,1)\n",
    "    gray = cv.cvtColor(img, cv.COLOR_RGB2GRAY)\n",
    "    \n",
    "    blur = cv.blur(gray,(5,5)) #blur image\n",
    "    canny = cv.Canny(blur,50,100) #we are having sharp images,some noise to remove this pass the blurr image\n",
    "    cv.imshow('originalframe',img )\n",
    "    cv.imshow(\"canny\",canny)\n",
    "    cv.imshow(\"gray\",gray)\n",
    "    cv.imshow(\"blurr\",blur)\n",
    "    \n",
    "    key = cv.waitKey(30)\n",
    "    if(key == 27):\n",
    "        break\n",
    "camera.release()        \n",
    "    "
   ]
  },
  {
   "cell_type": "code",
   "execution_count": null,
   "id": "356cf87d",
   "metadata": {},
   "outputs": [],
   "source": []
  }
 ],
 "metadata": {
  "kernelspec": {
   "display_name": "Python 3",
   "language": "python",
   "name": "python3"
  },
  "language_info": {
   "codemirror_mode": {
    "name": "ipython",
    "version": 3
   },
   "file_extension": ".py",
   "mimetype": "text/x-python",
   "name": "python",
   "nbconvert_exporter": "python",
   "pygments_lexer": "ipython3",
   "version": "3.8.8"
  }
 },
 "nbformat": 4,
 "nbformat_minor": 5
}
