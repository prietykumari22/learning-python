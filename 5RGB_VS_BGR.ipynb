{
 "cells": [
  {
   "cell_type": "code",
   "execution_count": 12,
   "id": "4bb408a3",
   "metadata": {},
   "outputs": [],
   "source": [
    "import cv2 as cv\n",
    "import numpy as np"
   ]
  },
  {
   "cell_type": "code",
   "execution_count": 13,
   "id": "7e6ff718",
   "metadata": {},
   "outputs": [],
   "source": [
    "img=cv.imread(\"armanmalik.jpeg\")"
   ]
  },
  {
   "cell_type": "code",
   "execution_count": 14,
   "id": "ad3fa197",
   "metadata": {},
   "outputs": [
    {
     "data": {
      "text/plain": [
       "(661, 464, 3)"
      ]
     },
     "execution_count": 14,
     "metadata": {},
     "output_type": "execute_result"
    }
   ],
   "source": [
    "img.shape"
   ]
  },
  {
   "cell_type": "code",
   "execution_count": 15,
   "id": "5f462962",
   "metadata": {},
   "outputs": [
    {
     "data": {
      "text/plain": [
       "array([[[ 41,  16,  12],\n",
       "        [ 38,  16,  11],\n",
       "        [ 38,  15,  13],\n",
       "        ...,\n",
       "        [  1,   4,  19],\n",
       "        [  1,   4,  19],\n",
       "        [  1,   4,  19]],\n",
       "\n",
       "       [[ 41,  16,  12],\n",
       "        [ 41,  16,  12],\n",
       "        [ 38,  15,  13],\n",
       "        ...,\n",
       "        [  1,   4,  19],\n",
       "        [  1,   4,  19],\n",
       "        [  1,   4,  19]],\n",
       "\n",
       "       [[ 41,  17,  11],\n",
       "        [ 41,  16,  12],\n",
       "        [ 41,  16,  12],\n",
       "        ...,\n",
       "        [  1,   4,  19],\n",
       "        [  1,   4,  19],\n",
       "        [  1,   4,  19]],\n",
       "\n",
       "       ...,\n",
       "\n",
       "       [[  3,   3,  15],\n",
       "        [  3,   3,  15],\n",
       "        [  3,   3,  15],\n",
       "        ...,\n",
       "        [  0,  27, 191],\n",
       "        [  0,  19, 176],\n",
       "        [  0,  14, 166]],\n",
       "\n",
       "       [[  3,   3,  15],\n",
       "        [  3,   3,  15],\n",
       "        [  3,   3,  15],\n",
       "        ...,\n",
       "        [  1,  24, 186],\n",
       "        [  1,  18, 169],\n",
       "        [  1,  12, 156]],\n",
       "\n",
       "       [[  3,   3,  15],\n",
       "        [  3,   3,  15],\n",
       "        [  3,   3,  15],\n",
       "        ...,\n",
       "        [  1,  22, 181],\n",
       "        [  2,  15, 161],\n",
       "        [  0,  10, 147]]], dtype=uint8)"
      ]
     },
     "execution_count": 15,
     "metadata": {},
     "output_type": "execute_result"
    }
   ],
   "source": [
    "img"
   ]
  },
  {
   "cell_type": "markdown",
   "id": "bea8d211",
   "metadata": {},
   "source": [
    "#we are not using matplotlib library we will be using function pof open cv to display the image on wimdows"
   ]
  },
  {
   "cell_type": "code",
   "execution_count": 16,
   "id": "827ea24f",
   "metadata": {},
   "outputs": [],
   "source": [
    "#here we will see this block hold a *until we press any key from keyboard press Enter will return 13\n",
    "#cv.imshow(\"original\",img)                            #run this it will create a windows\n",
    "#cv.waitKey(0)                                       #wait for execution ---->cv.wait keys is used when we use the webcam\n",
    "#cv.destroyAllWindows()"
   ]
  },
  {
   "cell_type": "code",
   "execution_count": 17,
   "id": "3da46047",
   "metadata": {},
   "outputs": [],
   "source": [
    "#press escape will return 27 ,on pressing A will return 97 and so on...every key is having a unique no\n",
    "#cv.imshow(\"original\",img)                            \n",
    "#cv.waitKey(0)                  \n",
    "#cv.destroyAllWindows()"
   ]
  },
  {
   "cell_type": "markdown",
   "id": "65fb6ae8",
   "metadata": {},
   "source": [
    " converting image into bgr\n",
    "bgr = cv.cvtColor(img, cv.COLOR_RGB2BGR)"
   ]
  },
  {
   "cell_type": "code",
   "execution_count": 19,
   "id": "857ee681",
   "metadata": {},
   "outputs": [
    {
     "data": {
      "text/plain": [
       "-1"
      ]
     },
     "execution_count": 19,
     "metadata": {},
     "output_type": "execute_result"
    }
   ],
   "source": [
    "# showing original and BGr\n",
    "cv.imshow(\"original\",img)                            \n",
    "cv.waitKey(0) \n",
    "\n",
    "cv.imshow(\"BGR\", bgr)\n",
    "cv.waitKey(0)\n",
    "#cv.destroyAllWindows()"
   ]
  },
  {
   "cell_type": "markdown",
   "id": "3032b27d",
   "metadata": {},
   "source": [
    "# R G B\n",
    "\n",
    "     [0, 0, 0 ] Black\n",
    "     [255,255,255] White\n",
    "     [255,0, 0 ] Red\n",
    "     [0, ,255, 0 ] Green       # pixel value of RED FOR RGB AND RED FOR BGR is changed \n",
    "     [0, 0, 255 ] Blue          \n"
   ]
  },
  {
   "cell_type": "markdown",
   "id": "43d2e6c1",
   "metadata": {},
   "source": [
    "# B G R\n",
    "       #[0, 0, 0 ] Black\n",
    "       #[255,255,255] White\n",
    "       #[0, 0, 255 ] Red                    #PIXEL VALUE OF BLUE FOR RGB AND BLUE FOR BGR IS CHANGED\n",
    "       #[0, ,255, 0 ] Green\n",
    "       #[255, 0, 0 ] Blue"
   ]
  },
  {
   "cell_type": "markdown",
   "id": "8f2453a0",
   "metadata": {},
   "source": [
    "# ##In RGB format wheresoever i am having red colour in BGR it is changed to blue colour"
   ]
  },
  {
   "cell_type": "code",
   "execution_count": 21,
   "id": "c0125077",
   "metadata": {},
   "outputs": [
    {
     "data": {
      "text/plain": [
       "2073600"
      ]
     },
     "execution_count": 21,
     "metadata": {},
     "output_type": "execute_result"
    }
   ],
   "source": [
    "#sixe of my laptop screen is \n",
    "1920*1080"
   ]
  },
  {
   "cell_type": "code",
   "execution_count": 22,
   "id": "2f838bd9",
   "metadata": {},
   "outputs": [
    {
     "data": {
      "text/plain": [
       "(661, 464, 3)"
      ]
     },
     "execution_count": 22,
     "metadata": {},
     "output_type": "execute_result"
    }
   ],
   "source": [
    "#and image size\n",
    "img.shape"
   ]
  },
  {
   "cell_type": "code",
   "execution_count": 29,
   "id": "10b67345",
   "metadata": {},
   "outputs": [],
   "source": [
    "#here image sixe is less so to display on full screen we need to change the shape of image\n",
    "resized=cv.resize(img,(1920,1080))\n"
   ]
  },
  {
   "cell_type": "code",
   "execution_count": null,
   "id": "23453058",
   "metadata": {},
   "outputs": [],
   "source": [
    "cv.imshow(\"resized\",resized)                            \n",
    "cv.waitKey(0) \n",
    "\n",
    "cv.imshow(\"BGR\", bgr)\n",
    "cv.waitKey(0)\n",
    "#cv.destroyAllWindows("
   ]
  },
  {
   "cell_type": "code",
   "execution_count": null,
   "id": "1ffac008",
   "metadata": {},
   "outputs": [],
   "source": [
    "resize the image usind aspect ratio\n",
    "661/464.0"
   ]
  },
  {
   "cell_type": "code",
   "execution_count": null,
   "id": "054683b4",
   "metadata": {},
   "outputs": [],
   "source": [
    "#to moify sixe to image\n",
    "resized = cv.resize(img, (img.shape[1]/6,img.shape[0]/6))\n",
    "cv.imshow(\"Resized\", resized)\n",
    "cv.waitKey(0)\n",
    "13\n",
    "cv.imwrite('Resized.png',resized)\n",
    "True\n",
    "bgr = cv.cvtColor(resized, cv.COLOR_RGB2BGR)\n",
    "img.shape[0]/6\n",
    "510\n",
    "img.shape[1]/6\n",
    "909\n",
    "cv.imshow(\"Original\", resized)\n",
    "cv.waitKey(0)\n",
    "\n",
    "cv.imshow(\"BGR\", bgr)\n",
    "cv.waitKey(0)\n",
    "0"
   ]
  }
 ],
 "metadata": {
  "kernelspec": {
   "display_name": "Python 3",
   "language": "python",
   "name": "python3"
  },
  "language_info": {
   "codemirror_mode": {
    "name": "ipython",
    "version": 3
   },
   "file_extension": ".py",
   "mimetype": "text/x-python",
   "name": "python",
   "nbconvert_exporter": "python",
   "pygments_lexer": "ipython3",
   "version": "3.8.8"
  }
 },
 "nbformat": 4,
 "nbformat_minor": 5
}
