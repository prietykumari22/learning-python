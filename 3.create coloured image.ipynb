{
 "cells": [
  {
   "cell_type": "markdown",
   "id": "2b572e82",
   "metadata": {},
   "source": [
    "2..### to create coloured images......earlier we have used pxiel range[0-255] to create black and white images "
   ]
  },
  {
   "cell_type": "code",
   "execution_count": 9,
   "id": "eba0ed60",
   "metadata": {},
   "outputs": [],
   "source": [
    "import numpy as np\n",
    "import matplotlib.pyplot as plt\n",
    "import cv2 as cv"
   ]
  },
  {
   "cell_type": "code",
   "execution_count": 10,
   "id": "3f6c59af",
   "metadata": {},
   "outputs": [
    {
     "data": {
      "text/plain": [
       "<matplotlib.image.AxesImage at 0x1c6a4872220>"
      ]
     },
     "execution_count": 10,
     "metadata": {},
     "output_type": "execute_result"
    },
    {
     "data": {
      "image/png": "[encoded data removed]",
      "text/plain": [
       "<Figure size 432x288 with 1 Axes>"
      ]
     },
     "metadata": {
      "needs_background": "light"
     },
     "output_type": "display_data"
    }
   ],
   "source": [
    "lst=[[0,0,0],\n",
    "    [50,50,50],\n",
    "    [100,100,100]]\n",
    "plt.imshow(lst) #here we are having 9 values one for each pixel to create 3*3 image i need nine pixel\n",
    "#after exporting this image to device image will be black nd white "
   ]
  },
  {
   "cell_type": "markdown",
   "id": "7ff07162",
   "metadata": {},
   "source": [
    "#####to create a coloured image instead of creating one value for one pixels we need to create 3 value for each pixel for example  to generate a multiple color we need to use a format to grnerate a rgb image  to create image we need 3*3*3 values"
   ]
  },
  {
   "cell_type": "code",
   "execution_count": 11,
   "id": "1df64b4d",
   "metadata": {},
   "outputs": [
    {
     "data": {
      "text/plain": [
       "<matplotlib.image.AxesImage at 0x1c6a48c4b50>"
      ]
     },
     "execution_count": 11,
     "metadata": {},
     "output_type": "execute_result"
    },
    {
     "data": {
      "image/png": "[encoded data removed]",
      "text/plain": [
       "<Figure size 432x288 with 1 Axes>"
      ]
     },
     "metadata": {
      "needs_background": "light"
     },
     "output_type": "display_data"
    }
   ],
   "source": [
    "#each pixel is having 3 values #whenever u are using this particular format make sure to use this particular format\n",
    "lst=[[[0,0,0],[0,0,0],[0,0,0]],\n",
    "    [[50,50,50],[50,50,50],[50,50,50]],\n",
    "    [[100,100,100],[100,100,100],[100,100,100]]]\n",
    "plt.imshow(lst)"
   ]
  },
  {
   "cell_type": "code",
   "execution_count": 12,
   "id": "b4190d43",
   "metadata": {},
   "outputs": [
    {
     "data": {
      "text/plain": [
       "True"
      ]
     },
     "execution_count": 12,
     "metadata": {},
     "output_type": "execute_result"
    }
   ],
   "source": [
    "#exporting this image to device \n",
    "lst=np.array(lst)\n",
    "cv.imwrite('square.png',lst) #on expoting this image will appear same as here "
   ]
  },
  {
   "cell_type": "code",
   "execution_count": 14,
   "id": "153cb668",
   "metadata": {},
   "outputs": [
    {
     "data": {
      "text/plain": [
       "<matplotlib.image.AxesImage at 0x1c6a4978340>"
      ]
     },
     "execution_count": 14,
     "metadata": {},
     "output_type": "execute_result"
    },
    {
     "data": {
      "image/png": "[encoded data removed]",
      "text/plain": [
       "<Figure size 432x288 with 1 Axes>"
      ]
     },
     "metadata": {
      "needs_background": "light"
     },
     "output_type": "display_data"
    }
   ],
   "source": [
    "lst=[[[150,0,0],[100,100,100],[200,200,200]],                                    #0-->dark pixel,255 brighter pixel\n",
    "    [[150,0,0],[255,255,255],[0,0,0]],\n",
    "    [[150,0,0],[0,0,0],[0,0,0]]]\n",
    "plt.imshow(lst)"
   ]
  },
  {
   "cell_type": "code",
   "execution_count": 16,
   "id": "f1f771a2",
   "metadata": {},
   "outputs": [
    {
     "data": {
      "text/plain": [
       "<matplotlib.image.AxesImage at 0x1c6a4a1db20>"
      ]
     },
     "execution_count": 16,
     "metadata": {},
     "output_type": "execute_result"
    },
    {
     "data": {
      "image/png": "[encoded data removed]",
      "text/plain": [
       "<Figure size 432x288 with 1 Axes>"
      ]
     },
     "metadata": {
      "needs_background": "light"
     },
     "output_type": "display_data"
    }
   ],
   "source": [
    "#RGB BY USING RGB WE CAN MAKE DIFFRENT COLOR COMBINATION\n",
    "lst=[[[150,0,0],[150,100,100],[200,200,200]],                                    #0-->dark pixel,255 brighter pixel\n",
    "    [[150,0,0],[155,255,255],[0,0,0]],\n",
    "    [[150,0,0],[150,0,155],[0,0,0]]]\n",
    "plt.imshow(lst)"
   ]
  },
  {
   "cell_type": "code",
   "execution_count": 23,
   "id": "1737c53d",
   "metadata": {},
   "outputs": [
    {
     "data": {
      "text/plain": [
       "<matplotlib.image.AxesImage at 0x1c6a4c66310>"
      ]
     },
     "execution_count": 23,
     "metadata": {},
     "output_type": "execute_result"
    },
    {
     "data": {
      "image/png": "[encoded data removed]",
      "text/plain": [
       "<Figure size 432x288 with 1 Axes>"
      ]
     },
     "metadata": {
      "needs_background": "light"
     },
     "output_type": "display_data"
    }
   ],
   "source": [
    "lst=[[[100,0,0],[0,100,0],[0,0,200]],                                    #0-->dark pixel,255 brighter pixel\n",
    "    [[100,0,0],[0,200,0],[0,0,50]],             #BY MANIPULATING VALUE WE CAN CRETE DFFRENT COMBINATION\n",
    "    [[100,0,0],[0,255,0],[0,0,100]]]\n",
    "plt.imshow(lst)"
   ]
  },
  {
   "cell_type": "code",
   "execution_count": null,
   "id": "681aa218",
   "metadata": {},
   "outputs": [],
   "source": []
  },
  {
   "cell_type": "code",
   "execution_count": null,
   "id": "d6e3f1e1",
   "metadata": {},
   "outputs": [],
   "source": []
  }
 ],
 "metadata": {
  "kernelspec": {
   "display_name": "Python 3",
   "language": "python",
   "name": "python3"
  },
  "language_info": {
   "codemirror_mode": {
    "name": "ipython",
    "version": 3
   },
   "file_extension": ".py",
   "mimetype": "text/x-python",
   "name": "python",
   "nbconvert_exporter": "python",
   "pygments_lexer": "ipython3",
   "version": "3.8.8"
  }
 },
 "nbformat": 4,
 "nbformat_minor": 5
}
