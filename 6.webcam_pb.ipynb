{
 "cells": [
  {
   "cell_type": "markdown",
   "id": "7b15ae7b",
   "metadata": {},
   "source": [
    "## performind simple operation on live webcam"
   ]
  },
  {
   "cell_type": "code",
   "execution_count": 32,
   "id": "0198c290",
   "metadata": {},
   "outputs": [],
   "source": [
    "import cv2 as cv\n",
    "import numpy as np"
   ]
  },
  {
   "cell_type": "code",
   "execution_count": 20,
   "id": "89d63feb",
   "metadata": {},
   "outputs": [],
   "source": [
    "#attatch a camera either you use a system camera or ip based camera\n",
    "camera=cv.VideoCapture(0)    #passing 0 will will use the impuilt laptop camera and 1 will use other camera"
   ]
  },
  {
   "cell_type": "code",
   "execution_count": 21,
   "id": "3c20f443",
   "metadata": {},
   "outputs": [
    {
     "data": {
      "text/plain": [
       "<VideoCapture 0000022FDEA71BD0>"
      ]
     },
     "execution_count": 21,
     "metadata": {},
     "output_type": "execute_result"
    }
   ],
   "source": [
    "camera"
   ]
  },
  {
   "cell_type": "code",
   "execution_count": 17,
   "id": "7472ea6a",
   "metadata": {},
   "outputs": [],
   "source": [
    "# to release the camera resources\n",
    "camera.release() #led will get off "
   ]
  },
  {
   "cell_type": "code",
   "execution_count": 29,
   "id": "4a45d423",
   "metadata": {},
   "outputs": [],
   "source": [
    "camera = cv.VideoCapture(0)                                    #open the camers resources\n",
    "#extract the fame ,display the fame and delete the frame\n",
    "while True:                       #using loop to extract the frame again the again it will continues until and unless we stop it\n",
    "    \n",
    "    _, frame = camera.read()                  #reading frame\n",
    "    frame =cv.flip(frame,1)          #it will flip the image on passing 0 and on passing 1 it will display the original image\n",
    "\n",
    "    cv.imshow(\"Original\", frame)                                 #displaying frame 1st parameter is name of frame\n",
    "    key = cv.waitKey(0)                           #how many times we need to wait to display that image...#0 will not work here\n",
    "    \n",
    "    if (key == 27):                                # key will return the value\n",
    "        cv.destroyAllWindows()                     #it will not work here work will work on basic py file\n",
    "        break\n",
    "\n",
    "\n",
    "camera.release()                                  #release the camera resources\n",
    "    "
   ]
  },
  {
   "cell_type": "markdown",
   "id": "16768fd5",
   "metadata": {},
   "source": [
    "## if we pass 0 to the wait key function the image on the camera will get freeze until and unless we press ant key it remain freezed .to see a moving image keep pressing any key "
   ]
  },
  {
   "cell_type": "code",
   "execution_count": 31,
   "id": "7e3eb157",
   "metadata": {},
   "outputs": [],
   "source": [
    "camera = cv.VideoCapture(0)\n",
    "\n",
    "while True:\n",
    "    \n",
    "    _, frame = camera.read()\n",
    "    flip_side=cv.flip(frame,0)\n",
    "    flip_down=cv.flip(frame,1)\n",
    "    \n",
    "\n",
    "    cv.imshow(\"Original\", frame)        #original flip frame\n",
    "    cv.imshow(\"flip side\",flip_side)    #flip image\n",
    "    cv.imshow(\"flip down\",flip_down)\n",
    "    key = cv.waitKey(30)\n",
    "    \n",
    "    if (key == 27):\n",
    "        cv.destroyAllWindows()\n",
    "        break\n",
    "\n",
    "\n",
    "camera.release()\n",
    "    "
   ]
  },
  {
   "cell_type": "code",
   "execution_count": null,
   "id": "577353e0",
   "metadata": {},
   "outputs": [],
   "source": [
    " camera = cv.VideoCapture(0)\n",
    "\n",
    "while True:\n",
    "    \n",
    "    _, frame = camera.read()\n",
    "    frame = cv.flip(frame, 1)\n",
    "\n",
    "    \n",
    "    cv.imshow(\"Original\", frame)\n",
    "    \n",
    "    frame = cv.cvtColor(frame, cv.COLOR_BGR2RGB)\n",
    "    \n",
    "    r = frame[:,:, :1]\n",
    "    g = frame[:,:,1:2]\n",
    "    b = frame[:,:,2: ]    \n",
    "\n",
    "    cv.imshow(\"Red\", r)\n",
    "    cv.imshow(\"Green\", g)\n",
    "    cv.imshow(\"Blue\", b)\n",
    "\n",
    "    key = cv.waitKey(30)\n",
    "    \n",
    "    if (key == 27):\n",
    "        cv.destroyAllWindows()\n",
    "        break\n",
    "\n",
    "\n",
    "camera.release()"
   ]
  },
  {
   "cell_type": "code",
   "execution_count": null,
   "id": "eb935fac",
   "metadata": {},
   "outputs": [],
   "source": []
  }
 ],
 "metadata": {
  "kernelspec": {
   "display_name": "Python 3",
   "language": "python",
   "name": "python3"
  },
  "language_info": {
   "codemirror_mode": {
    "name": "ipython",
    "version": 3
   },
   "file_extension": ".py",
   "mimetype": "text/x-python",
   "name": "python",
   "nbconvert_exporter": "python",
   "pygments_lexer": "ipython3",
   "version": "3.8.8"
  }
 },
 "nbformat": 4,
 "nbformat_minor": 5
}
