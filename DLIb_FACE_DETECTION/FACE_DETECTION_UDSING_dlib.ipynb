{
 "cells": [
  {
   "cell_type": "code",
   "execution_count": 119,
   "id": "c4670273",
   "metadata": {},
   "outputs": [
    {
     "name": "stdout",
     "output_type": "stream",
     "text": [
      "Requirement already satisfied: dlib in c:\\anaconda12\\lib\\site-packages (19.22.1)\n"
     ]
    }
   ],
   "source": [
    "!pip install dlib"
   ]
  },
  {
   "cell_type": "code",
   "execution_count": 2,
   "id": "8a9b5cf9",
   "metadata": {},
   "outputs": [],
   "source": [
    "import dlib\n",
    "import cv2 as cv"
   ]
  },
  {
   "cell_type": "code",
   "execution_count": 3,
   "id": "b79590b6",
   "metadata": {},
   "outputs": [],
   "source": [
    "detector = dlib.get_frontal_face_detector() #detect the fronatal face"
   ]
  },
  {
   "cell_type": "code",
   "execution_count": 114,
   "id": "34dd049d",
   "metadata": {},
   "outputs": [],
   "source": [
    "img = cv.imread(\"priety_image.JPEG\")\n",
    "#img = cv.resize(img ,(img.shape[1]/2 ,img.shape[0]/2))\n",
    "det = detector(img)\n",
    "\n",
    "x1 = int(det[0].left())\n",
    "y1 = int(det[0].right())\n",
    "x2 = int(det[0].top())\n",
    "y2 = int(det[0].bottom())\n",
    "img = cv.rectangle(img,(x1,x2),(y1,y2),(0,255,0),6) # on executing this cobination of all four points we got the fave detected\n",
    "#cropping the image\n",
    "#face = img[x1:x2 ,y1:y2, :] #ON executing we are getting cropped image but face is not at center\n",
    "#face = img[x1:Y1 ,X2:y2, :] make more combination and check\n",
    "face = img[x2:y2 ,x1:y1, :] #and yes we are getting a cropped image"
   ]
  },
  {
   "cell_type": "code",
   "execution_count": 115,
   "id": "157ac1b0",
   "metadata": {},
   "outputs": [
    {
     "data": {
      "text/plain": [
       "(446, 446, 3)"
      ]
     },
     "execution_count": 115,
     "metadata": {},
     "output_type": "execute_result"
    }
   ],
   "source": [
    "face.shape"
   ]
  },
  {
   "cell_type": "code",
   "execution_count": 117,
   "id": "3050e0c7",
   "metadata": {},
   "outputs": [
    {
     "data": {
      "text/plain": [
       "True"
      ]
     },
     "execution_count": 117,
     "metadata": {},
     "output_type": "execute_result"
    }
   ],
   "source": [
    "cv.imwrite(\"priety_write4.png\",face)"
   ]
  },
  {
   "cell_type": "markdown",
   "id": "4961ad77",
   "metadata": {},
   "source": [
    "### so cronology should be[(x1,x2),(y1,y2)] once the face is detected..crop that particular areaand the go for  the landmark on face"
   ]
  },
  {
   "cell_type": "code",
   "execution_count": 54,
   "id": "05a7d6cc",
   "metadata": {},
   "outputs": [
    {
     "data": {
      "text/plain": [
       "True"
      ]
     },
     "execution_count": 54,
     "metadata": {},
     "output_type": "execute_result"
    }
   ],
   "source": [
    "cv.imwrite('priety_write3.png',img)"
   ]
  },
  {
   "cell_type": "code",
   "execution_count": 27,
   "id": "1ef8dcbe",
   "metadata": {},
   "outputs": [
    {
     "data": {
      "text/plain": [
       "rectangles[[(286, 385) (732, 831)]]"
      ]
     },
     "execution_count": 27,
     "metadata": {},
     "output_type": "execute_result"
    }
   ],
   "source": [
    "#det"
   ]
  },
  {
   "cell_type": "code",
   "execution_count": 25,
   "id": "31c271c6",
   "metadata": {},
   "outputs": [
    {
     "data": {
      "text/plain": [
       "rectangles[[(286, 385) (732, 831)]]"
      ]
     },
     "execution_count": 25,
     "metadata": {},
     "output_type": "execute_result"
    }
   ],
   "source": [
    " #detector(img)"
   ]
  },
  {
   "cell_type": "code",
   "execution_count": 21,
   "id": "afdfe508",
   "metadata": {},
   "outputs": [
    {
     "data": {
      "text/plain": [
       "array([[[255, 255, 255],\n",
       "        [255, 255, 255],\n",
       "        [255, 255, 255],\n",
       "        ...,\n",
       "        [255, 255, 255],\n",
       "        [255, 255, 255],\n",
       "        [255, 255, 255]],\n",
       "\n",
       "       [[255, 255, 255],\n",
       "        [255, 255, 255],\n",
       "        [255, 255, 255],\n",
       "        ...,\n",
       "        [255, 255, 255],\n",
       "        [255, 255, 255],\n",
       "        [255, 255, 255]],\n",
       "\n",
       "       [[255, 255, 255],\n",
       "        [255, 255, 255],\n",
       "        [255, 255, 255],\n",
       "        ...,\n",
       "        [255, 255, 255],\n",
       "        [255, 255, 255],\n",
       "        [255, 255, 255]],\n",
       "\n",
       "       ...,\n",
       "\n",
       "       [[255, 255, 255],\n",
       "        [255, 255, 255],\n",
       "        [255, 255, 255],\n",
       "        ...,\n",
       "        [255, 255, 255],\n",
       "        [255, 255, 255],\n",
       "        [255, 255, 255]],\n",
       "\n",
       "       [[255, 255, 255],\n",
       "        [255, 255, 255],\n",
       "        [255, 255, 255],\n",
       "        ...,\n",
       "        [255, 255, 255],\n",
       "        [255, 255, 255],\n",
       "        [255, 255, 255]],\n",
       "\n",
       "       [[255, 255, 255],\n",
       "        [255, 255, 255],\n",
       "        [255, 255, 255],\n",
       "        ...,\n",
       "        [255, 255, 255],\n",
       "        [255, 255, 255],\n",
       "        [255, 255, 255]]], dtype=uint8)"
      ]
     },
     "execution_count": 21,
     "metadata": {},
     "output_type": "execute_result"
    }
   ],
   "source": [
    "#img"
   ]
  },
  {
   "cell_type": "code",
   "execution_count": 9,
   "id": "560e295c",
   "metadata": {},
   "outputs": [
    {
     "data": {
      "text/plain": [
       "(1280, 904, 3)"
      ]
     },
     "execution_count": 9,
     "metadata": {},
     "output_type": "execute_result"
    }
   ],
   "source": [
    "#img.shape"
   ]
  },
  {
   "cell_type": "code",
   "execution_count": 11,
   "id": "c74d4028",
   "metadata": {},
   "outputs": [
    {
     "data": {
      "text/plain": [
       "320.0"
      ]
     },
     "execution_count": 11,
     "metadata": {},
     "output_type": "execute_result"
    }
   ],
   "source": [
    "#to reduce the sixe of pixel\n",
    "1280/4"
   ]
  },
  {
   "cell_type": "code",
   "execution_count": 12,
   "id": "3f36b66b",
   "metadata": {},
   "outputs": [
    {
     "data": {
      "text/plain": [
       "226.0"
      ]
     },
     "execution_count": 12,
     "metadata": {},
     "output_type": "execute_result"
    }
   ],
   "source": [
    "#904/4"
   ]
  },
  {
   "cell_type": "code",
   "execution_count": 17,
   "id": "66ff26d0",
   "metadata": {},
   "outputs": [
    {
     "data": {
      "text/plain": [
       "True"
      ]
     },
     "execution_count": 17,
     "metadata": {},
     "output_type": "execute_result"
    }
   ],
   "source": [
    "#cv.imwrite(\"img.png\",img) # to check if image is loaded or not"
   ]
  },
  {
   "cell_type": "code",
   "execution_count": null,
   "id": "0488ca12",
   "metadata": {},
   "outputs": [],
   "source": []
  }
 ],
 "metadata": {
  "kernelspec": {
   "display_name": "Python 3 (ipykernel)",
   "language": "python",
   "name": "python3"
  },
  "language_info": {
   "codemirror_mode": {
    "name": "ipython",
    "version": 3
   },
   "file_extension": ".py",
   "mimetype": "text/x-python",
   "name": "python",
   "nbconvert_exporter": "python",
   "pygments_lexer": "ipython3",
   "version": "3.8.8"
  }
 },
 "nbformat": 4,
 "nbformat_minor": 5
}
